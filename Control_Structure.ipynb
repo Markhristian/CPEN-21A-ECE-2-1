{
  "nbformat": 4,
  "nbformat_minor": 0,
  "metadata": {
    "colab": {
      "name": "Control Structure.ipynb",
      "provenance": [],
      "authorship_tag": "ABX9TyOt6Q7+9oBlioqzVGkjca6c",
      "include_colab_link": true
    },
    "kernelspec": {
      "name": "python3",
      "display_name": "Python 3"
    },
    "language_info": {
      "name": "python"
    }
  },
  "cells": [
    {
      "cell_type": "markdown",
      "metadata": {
        "id": "view-in-github",
        "colab_type": "text"
      },
      "source": [
        "<a href=\"https://colab.research.google.com/github/Markhristian/CPEN-21A-ECE-2-1/blob/main/Control_Structure.ipynb\" target=\"_parent\"><img src=\"https://colab.research.google.com/assets/colab-badge.svg\" alt=\"Open In Colab\"/></a>"
      ]
    },
    {
      "cell_type": "markdown",
      "metadata": {
        "id": "uuRdnMFT9Q78"
      },
      "source": [
        "##If Statement"
      ]
    },
    {
      "cell_type": "code",
      "metadata": {
        "colab": {
          "base_uri": "https://localhost:8080/"
        },
        "id": "FnE20SlI9Vkz",
        "outputId": "28890536-d396-4527-e38b-8e0b142c920f"
      },
      "source": [
        "a = 12\n",
        "b = 100\n",
        "if b>a:\n",
        "  print(\"b is greater than a\")"
      ],
      "execution_count": 3,
      "outputs": [
        {
          "output_type": "stream",
          "name": "stdout",
          "text": [
            "b is greater than a\n"
          ]
        }
      ]
    },
    {
      "cell_type": "markdown",
      "metadata": {
        "id": "G95J97Me9p5R"
      },
      "source": [
        "##Elif Statement"
      ]
    },
    {
      "cell_type": "code",
      "metadata": {
        "colab": {
          "base_uri": "https://localhost:8080/"
        },
        "id": "on-l6dKb9sAr",
        "outputId": "75033792-2ccf-49c1-8a18-20d3d998de2a"
      },
      "source": [
        "a = 12\n",
        "b = 12\n",
        "\n",
        "if b>a:\n",
        "  print(\"b is greater than a\")\n",
        "elif b==a:\n",
        "  print(\"b is equal to a\")"
      ],
      "execution_count": 4,
      "outputs": [
        {
          "output_type": "stream",
          "name": "stdout",
          "text": [
            "b is equal to a\n"
          ]
        }
      ]
    },
    {
      "cell_type": "markdown",
      "metadata": {
        "id": "y4eY2BGx-GYI"
      },
      "source": [
        "##Else Statement"
      ]
    },
    {
      "cell_type": "code",
      "metadata": {
        "colab": {
          "base_uri": "https://localhost:8080/"
        },
        "id": "ghdSD-KL-IGn",
        "outputId": "86df1df6-9564-41bd-f339-434bf7fe94d4"
      },
      "source": [
        "a = 30\n",
        "b = 15\n",
        "if a>b:\n",
        "  print(\"a is greater than b\")\n",
        "elif b>a:\n",
        "  print(\"b is greater than a\")\n",
        "else:\n",
        "  print(\"a is equal to b\")"
      ],
      "execution_count": 5,
      "outputs": [
        {
          "output_type": "stream",
          "name": "stdout",
          "text": [
            "a is greater than b\n"
          ]
        }
      ]
    },
    {
      "cell_type": "markdown",
      "metadata": {
        "id": "5APTiLrk-2xc"
      },
      "source": [
        "##Short Hand If Statement"
      ]
    },
    {
      "cell_type": "code",
      "metadata": {
        "colab": {
          "base_uri": "https://localhost:8080/"
        },
        "id": "AvYBGxFh_A4N",
        "outputId": "4fb9675b-4f0b-4fe4-c312-c81cec625b16"
      },
      "source": [
        "a = 12\n",
        "b = 6\n",
        "if a>b: print(\"a is greater than b\")"
      ],
      "execution_count": 6,
      "outputs": [
        {
          "output_type": "stream",
          "name": "stdout",
          "text": [
            "a is greater than b\n"
          ]
        }
      ]
    },
    {
      "cell_type": "markdown",
      "metadata": {
        "id": "k8nNytk7_QFy"
      },
      "source": [
        "##Short Hand If..Else Statement"
      ]
    },
    {
      "cell_type": "code",
      "metadata": {
        "colab": {
          "base_uri": "https://localhost:8080/"
        },
        "id": "VdDwkjNg_Tpl",
        "outputId": "6114c803-9d93-4954-8ff6-ea8a81c5a024"
      },
      "source": [
        "a = 14\n",
        "b = 7\n",
        "print(\"a is greater than b\") if a>b else print(\"b is greater than a\")"
      ],
      "execution_count": 7,
      "outputs": [
        {
          "output_type": "stream",
          "name": "stdout",
          "text": [
            "a is greater than b\n"
          ]
        }
      ]
    },
    {
      "cell_type": "markdown",
      "metadata": {
        "id": "njNtXnJIAHyI"
      },
      "source": [
        "And logical Condition"
      ]
    },
    {
      "cell_type": "code",
      "metadata": {
        "colab": {
          "base_uri": "https://localhost:8080/"
        },
        "id": "HiwVvhigAKz5",
        "outputId": "342a58e1-a3c9-49d5-ba0b-c2ad9cc3938a"
      },
      "source": [
        "a = 200\n",
        "b = 33\n",
        "c = 500\n",
        "\n",
        "if a>b and c>a:\n",
        "  print(\"Both Condition are True\")\n",
        "else:\n",
        "  print(\"Evaluated as False\")"
      ],
      "execution_count": 9,
      "outputs": [
        {
          "output_type": "stream",
          "name": "stdout",
          "text": [
            "Both Condition are True\n"
          ]
        }
      ]
    },
    {
      "cell_type": "markdown",
      "metadata": {
        "id": "l0D6CcSIAubZ"
      },
      "source": [
        "Or logical Condition"
      ]
    },
    {
      "cell_type": "code",
      "metadata": {
        "colab": {
          "base_uri": "https://localhost:8080/"
        },
        "id": "1ChR1VNRAxxA",
        "outputId": "1d2ec3b9-b9ec-48a8-fa9c-ce7a3063242b"
      },
      "source": [
        "a = 200\n",
        "b = 33\n",
        "c = 500\n",
        "\n",
        "if a>b and c>a:\n",
        "  print(\"Evaluated as True\")\n",
        "else:\n",
        "  print(\"Evaluated as False\")"
      ],
      "execution_count": 11,
      "outputs": [
        {
          "output_type": "stream",
          "name": "stdout",
          "text": [
            "Evaluated as True\n"
          ]
        }
      ]
    },
    {
      "cell_type": "markdown",
      "metadata": {
        "id": "BfrYdf1gA8-z"
      },
      "source": [
        "##Nested If..Else Statement"
      ]
    },
    {
      "cell_type": "code",
      "metadata": {
        "colab": {
          "base_uri": "https://localhost:8080/"
        },
        "id": "Wc6ULQDnBIBy",
        "outputId": "348976ad-7b2d-4c68-ccea-e89fb843a249"
      },
      "source": [
        "x = 9\n",
        "\n",
        "if x>10:\n",
        "  print(\"Above ten\")\n",
        "  if x>20:\n",
        "    print(\"Above twenty\")\n",
        "  else:\n",
        "    print(\"Above ten but not Above twenty\")\n",
        "else:\n",
        "  print(\"Not Above ten\")"
      ],
      "execution_count": 15,
      "outputs": [
        {
          "output_type": "stream",
          "name": "stdout",
          "text": [
            "Not Above ten\n"
          ]
        }
      ]
    },
    {
      "cell_type": "markdown",
      "metadata": {
        "id": "ycMTJV5BCN7Z"
      },
      "source": [
        "Example 1"
      ]
    },
    {
      "cell_type": "code",
      "metadata": {
        "colab": {
          "base_uri": "https://localhost:8080/"
        },
        "id": "YVxakO_eCZlH",
        "outputId": "dbf98ead-7c45-40ba-9de0-fa9a1fb77d3b"
      },
      "source": [
        "# The qualifying age to vote\n",
        "age = int(input(\"Enter your age\"))\n",
        "\n",
        "if age>=18:\n",
        "  print(\"You are qualified to vote\")\n",
        "else:\n",
        "  print(\"You are not qualified to vote\")"
      ],
      "execution_count": 19,
      "outputs": [
        {
          "output_type": "stream",
          "name": "stdout",
          "text": [
            "Enter your age15\n",
            "You are not qualified to vote\n"
          ]
        }
      ]
    },
    {
      "cell_type": "markdown",
      "metadata": {
        "id": "o6Q5lgcoEAMP"
      },
      "source": [
        "Example 2\n"
      ]
    },
    {
      "cell_type": "code",
      "metadata": {
        "colab": {
          "base_uri": "https://localhost:8080/"
        },
        "id": "m_xSdW6eEBB4",
        "outputId": "1e76a3e5-ef61-4ee3-cb3c-5c3e8acc9aac"
      },
      "source": [
        "num = int(input(\"Enter the number\"))\n",
        "if num==0:\n",
        "  print(\"zero\")\n",
        "elif num>0:\n",
        "  print(\"positive\")\n",
        "else:\n",
        "  print(\"Negative\")"
      ],
      "execution_count": 20,
      "outputs": [
        {
          "output_type": "stream",
          "name": "stdout",
          "text": [
            "Enter the number10\n",
            "positive\n"
          ]
        }
      ]
    },
    {
      "cell_type": "markdown",
      "metadata": {
        "id": "P_4fLCjnEe7x"
      },
      "source": [
        "Example 3\n"
      ]
    },
    {
      "cell_type": "code",
      "metadata": {
        "colab": {
          "base_uri": "https://localhost:8080/"
        },
        "id": "yP5AhpG3EgFI",
        "outputId": "55eee3e4-ce88-43ab-cafd-532685f1ef3c"
      },
      "source": [
        "grade = int(input(\"Enter the grade\"))\n",
        "if grade>=75:\n",
        "  print(\"Passed\")\n",
        "elif grade==74:\n",
        "  print(\"Remedial\")\n",
        "else:\n",
        "  print(\"Failed\")"
      ],
      "execution_count": 22,
      "outputs": [
        {
          "output_type": "stream",
          "name": "stdout",
          "text": [
            "Enter the grade73\n",
            "Failed\n"
          ]
        }
      ]
    }
  ]
}