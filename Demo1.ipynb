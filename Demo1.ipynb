{
  "nbformat": 4,
  "nbformat_minor": 0,
  "metadata": {
    "colab": {
      "name": "Demo1.ipynb",
      "provenance": [],
      "authorship_tag": "ABX9TyMDtGD+JZWHEWA5NKbfdQy8",
      "include_colab_link": true
    },
    "kernelspec": {
      "name": "python3",
      "display_name": "Python 3"
    },
    "language_info": {
      "name": "python"
    }
  },
  "cells": [
    {
      "cell_type": "markdown",
      "metadata": {
        "id": "view-in-github",
        "colab_type": "text"
      },
      "source": [
        "<a href=\"https://colab.research.google.com/github/Markhristian/CPEN-21A-ECE-2-1/blob/main/Demo1.ipynb\" target=\"_parent\"><img src=\"https://colab.research.google.com/assets/colab-badge.svg\" alt=\"Open In Colab\"/></a>"
      ]
    },
    {
      "cell_type": "markdown",
      "metadata": {
        "id": "2GZbPXm05brt"
      },
      "source": [
        "##Python Variable"
      ]
    },
    {
      "cell_type": "code",
      "metadata": {
        "colab": {
          "base_uri": "https://localhost:8080/"
        },
        "id": "AB6GPygv5q_V",
        "outputId": "36b101a3-7c02-4a5f-ada0-6ec6f82408ac"
      },
      "source": [
        "x=10\n",
        "y=20\n",
        "z=30\n",
        "print(x)\n",
        "print(y)\n",
        "print(z)\n",
        "p,q,r=25,50,75\n",
        "print(p)\n",
        "print(q)\n",
        "print(r)\n"
      ],
      "execution_count": 5,
      "outputs": [
        {
          "output_type": "stream",
          "name": "stdout",
          "text": [
            "10\n",
            "20\n",
            "30\n",
            "25\n",
            "50\n",
            "75\n"
          ]
        }
      ]
    },
    {
      "cell_type": "code",
      "metadata": {
        "colab": {
          "base_uri": "https://localhost:8080/"
        },
        "id": "61KhumEZ5zG9",
        "outputId": "52e68f5f-5efe-4cf2-e6d4-8984f1105b93"
      },
      "source": [
        "a=\"Mark\"\n",
        "A=\"Macapinlac\"\n",
        "print(a)\n",
        "print(A)\n"
      ],
      "execution_count": 2,
      "outputs": [
        {
          "output_type": "stream",
          "name": "stdout",
          "text": [
            "Mark\n",
            "Macapinlac\n"
          ]
        }
      ]
    },
    {
      "cell_type": "markdown",
      "metadata": {
        "id": "PfNR2Byw6gVp"
      },
      "source": [
        "##Casting"
      ]
    },
    {
      "cell_type": "code",
      "metadata": {
        "colab": {
          "base_uri": "https://localhost:8080/"
        },
        "id": "sytkb7JM5iSi",
        "outputId": "68f56776-a49b-40f1-e03f-3e12cbc1bbca"
      },
      "source": [
        "f=float(100)\n",
        "print(f)\n",
        "i=int(100)\n",
        "print(i)\n"
      ],
      "execution_count": 3,
      "outputs": [
        {
          "output_type": "stream",
          "name": "stdout",
          "text": [
            "100.0\n",
            "100\n"
          ]
        }
      ]
    },
    {
      "cell_type": "markdown",
      "metadata": {
        "id": "oeZY2mBC6_xa"
      },
      "source": [
        "##Multiple Variables with One Value\n"
      ]
    },
    {
      "cell_type": "code",
      "metadata": {
        "colab": {
          "base_uri": "https://localhost:8080/"
        },
        "id": "wVGA_I0p7Nmr",
        "outputId": "cd69e72d-1204-44a0-806d-7d7e7d1918a3"
      },
      "source": [
        "m = n = o = 1000\n",
        "print(m)\n",
        "print(n)\n",
        "print(o)\n"
      ],
      "execution_count": 4,
      "outputs": [
        {
          "output_type": "stream",
          "name": "stdout",
          "text": [
            "1000\n",
            "1000\n",
            "1000\n"
          ]
        }
      ]
    },
    {
      "cell_type": "markdown",
      "metadata": {
        "id": "NezIPlmz713T"
      },
      "source": [
        "##Operation in Python\n"
      ]
    },
    {
      "cell_type": "code",
      "metadata": {
        "colab": {
          "base_uri": "https://localhost:8080/"
        },
        "id": "FekZ9Vuk74ma",
        "outputId": "8bce8922-f99d-4bec-cdb5-72e8f62c5b4d"
      },
      "source": [
        "A = 5\n",
        "B = 5\n",
        "print(A+B)\n",
        "print(A-B)\n",
        "print(A*B)"
      ],
      "execution_count": 7,
      "outputs": [
        {
          "output_type": "stream",
          "name": "stdout",
          "text": [
            "10\n",
            "0\n",
            "25\n"
          ]
        }
      ]
    },
    {
      "cell_type": "code",
      "metadata": {
        "colab": {
          "base_uri": "https://localhost:8080/"
        },
        "id": "SARlMW0o8dss",
        "outputId": "fd79e01b-72ff-447c-f6cd-e0400b38d250"
      },
      "source": [
        "A is B"
      ],
      "execution_count": 8,
      "outputs": [
        {
          "output_type": "execute_result",
          "data": {
            "text/plain": [
              "True"
            ]
          },
          "metadata": {},
          "execution_count": 8
        }
      ]
    },
    {
      "cell_type": "code",
      "metadata": {
        "colab": {
          "base_uri": "https://localhost:8080/"
        },
        "id": "-xZpm0P88lS-",
        "outputId": "bf0f25f1-dcca-4bd0-982f-f70580d8fabc"
      },
      "source": [
        "A is not B"
      ],
      "execution_count": 9,
      "outputs": [
        {
          "output_type": "execute_result",
          "data": {
            "text/plain": [
              "False"
            ]
          },
          "metadata": {},
          "execution_count": 9
        }
      ]
    },
    {
      "cell_type": "code",
      "metadata": {
        "colab": {
          "base_uri": "https://localhost:8080/"
        },
        "id": "DEXAwI2h8mgD",
        "outputId": "05a969e3-fac8-45fb-8e36-5d6262bcd7b8"
      },
      "source": [
        "A>B or A<B"
      ],
      "execution_count": 10,
      "outputs": [
        {
          "output_type": "execute_result",
          "data": {
            "text/plain": [
              "False"
            ]
          },
          "metadata": {},
          "execution_count": 10
        }
      ]
    }
  ]
}