{
  "nbformat": 4,
  "nbformat_minor": 0,
  "metadata": {
    "colab": {
      "name": "Final Exam.ipynb",
      "provenance": [],
      "collapsed_sections": [],
      "authorship_tag": "ABX9TyMO2S1ozFsEdLGpgqt94v1O",
      "include_colab_link": true
    },
    "kernelspec": {
      "name": "python3",
      "display_name": "Python 3"
    },
    "language_info": {
      "name": "python"
    }
  },
  "cells": [
    {
      "cell_type": "markdown",
      "metadata": {
        "id": "view-in-github",
        "colab_type": "text"
      },
      "source": [
        "<a href=\"https://colab.research.google.com/github/Markhristian/CPEN-21A-ECE-2-1/blob/main/Final_Exam.ipynb\" target=\"_parent\"><img src=\"https://colab.research.google.com/assets/colab-badge.svg\" alt=\"Open In Colab\"/></a>"
      ]
    },
    {
      "cell_type": "markdown",
      "source": [
        "#\"Final Exam\""
      ],
      "metadata": {
        "id": "FfI9rE8gL4kl"
      }
    },
    {
      "cell_type": "markdown",
      "source": [
        "###Problem Statement 1"
      ],
      "metadata": {
        "id": "cg1WQL1rL-NM"
      }
    },
    {
      "cell_type": "code",
      "source": [
        "num=(\"1\",\"2\",\"3\",\"4\",\"3\",\"2\",\"1\",\"2\",\"3\",\"4\")\n",
        "for x in num:\n",
        "  print(x)\n",
        "else:\n",
        "    print(1+2+3+4+3+2+1+2+3+4)"
      ],
      "metadata": {
        "id": "PFmSZl_BxfaY",
        "colab": {
          "base_uri": "https://localhost:8080/"
        },
        "outputId": "550c5475-d3a3-4b34-d156-b55b2636e13f"
      },
      "execution_count": null,
      "outputs": [
        {
          "output_type": "stream",
          "name": "stdout",
          "text": [
            "1\n",
            "2\n",
            "3\n",
            "4\n",
            "3\n",
            "2\n",
            "1\n",
            "2\n",
            "3\n",
            "4\n",
            "25\n"
          ]
        }
      ]
    },
    {
      "cell_type": "markdown",
      "source": [
        "###Problem Statement 2"
      ],
      "metadata": {
        "id": "9kTH0JsMxhZF"
      }
    },
    {
      "cell_type": "code",
      "source": [
        "i=1\n",
        "while i<6:\n",
        "  print(i)\n",
        "  i+=1 \n",
        "else:\n",
        "  print(1+5)"
      ],
      "metadata": {
        "colab": {
          "base_uri": "https://localhost:8080/"
        },
        "id": "0m9DIq6Cxk77",
        "outputId": "691f0c48-0c7c-4205-8844-4d8b7a5819eb"
      },
      "execution_count": null,
      "outputs": [
        {
          "output_type": "stream",
          "name": "stdout",
          "text": [
            "1\n",
            "2\n",
            "3\n",
            "4\n",
            "5\n",
            "6\n"
          ]
        }
      ]
    },
    {
      "cell_type": "markdown",
      "source": [
        "###Problem Statement 3"
      ],
      "metadata": {
        "id": "nC_8YDl1xlNE"
      }
    },
    {
      "cell_type": "code",
      "source": [
        "grade = int(input(\"Enter the grade \"))\n",
        "if grade>=90:\n",
        "  print(\"A\")\n",
        "elif grade>=80:\n",
        "  print(\"B\")\n",
        "else:\n",
        "  if grade>=70:\n",
        "    print(\"C\")\n",
        "  elif grade>=60:\n",
        "    print(\"D\")\n",
        "  else:\n",
        "    print(\"F\")\n"
      ],
      "metadata": {
        "colab": {
          "base_uri": "https://localhost:8080/"
        },
        "id": "Z5ypeN8rxvV4",
        "outputId": "faf7d725-b886-4420-fca2-a22b7dc864cf"
      },
      "execution_count": null,
      "outputs": [
        {
          "output_type": "stream",
          "name": "stdout",
          "text": [
            "Enter the grade 75\n",
            "C\n"
          ]
        }
      ]
    }
  ]
}