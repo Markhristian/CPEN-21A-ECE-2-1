{
  "nbformat": 4,
  "nbformat_minor": 0,
  "metadata": {
    "colab": {
      "name": "Lab1.ipynb",
      "provenance": [],
      "authorship_tag": "ABX9TyNZF4sX2Oz8AcGUkjYOjzEz",
      "include_colab_link": true
    },
    "kernelspec": {
      "name": "python3",
      "display_name": "Python 3"
    },
    "language_info": {
      "name": "python"
    }
  },
  "cells": [
    {
      "cell_type": "markdown",
      "metadata": {
        "id": "view-in-github",
        "colab_type": "text"
      },
      "source": [
        "<a href=\"https://colab.research.google.com/github/Markhristian/CPEN-21A-ECE-2-1/blob/main/Lab1.ipynb\" target=\"_parent\"><img src=\"https://colab.research.google.com/assets/colab-badge.svg\" alt=\"Open In Colab\"/></a>"
      ]
    },
    {
      "cell_type": "markdown",
      "metadata": {
        "id": "AjJcdIAbyjPX"
      },
      "source": [
        "#\"Laboratory 1\""
      ]
    },
    {
      "cell_type": "code",
      "metadata": {
        "colab": {
          "base_uri": "https://localhost:8080/"
        },
        "id": "QhEomMuEqjp1",
        "outputId": "52c26ce4-f66e-413d-ce15-87e6d9924d2d"
      },
      "source": [
        "a = (\"Welcome to Phyton Programming\")\n",
        "x = (\"Markhristian P. Macapinlac\")\n",
        "y = (\"Buna Cerca, Indang, Cavite\")\n",
        "z = (\"21\")\n",
        "print(a)\n",
        "print(\"Name : \" + x)\n",
        "print(\"Adress : \" + y)\n",
        "print(\"Age : \" + z)"
      ],
      "execution_count": 23,
      "outputs": [
        {
          "output_type": "stream",
          "name": "stdout",
          "text": [
            "Welcome to Phyton Programming\n",
            "Name : Markhristian P. Macapinlac\n",
            "Adress : Buna Cerca, Indang, Cavite\n",
            "Age : 21\n"
          ]
        }
      ]
    }
  ]
}