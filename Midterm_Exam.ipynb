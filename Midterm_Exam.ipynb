{
  "nbformat": 4,
  "nbformat_minor": 0,
  "metadata": {
    "colab": {
      "name": "Midterm Exam.ipynb",
      "provenance": [],
      "authorship_tag": "ABX9TyPH+GXab2qoqe8kY0nL0Pho",
      "include_colab_link": true
    },
    "kernelspec": {
      "name": "python3",
      "display_name": "Python 3"
    },
    "language_info": {
      "name": "python"
    }
  },
  "cells": [
    {
      "cell_type": "markdown",
      "metadata": {
        "id": "view-in-github",
        "colab_type": "text"
      },
      "source": [
        "<a href=\"https://colab.research.google.com/github/Markhristian/CPEN-21A-ECE-2-1/blob/main/Midterm_Exam.ipynb\" target=\"_parent\"><img src=\"https://colab.research.google.com/assets/colab-badge.svg\" alt=\"Open In Colab\"/></a>"
      ]
    },
    {
      "cell_type": "markdown",
      "metadata": {
        "id": "IQvB6XN61w6t"
      },
      "source": [
        ""
      ]
    },
    {
      "cell_type": "markdown",
      "metadata": {
        "id": "lu6VglRX104P"
      },
      "source": [
        "#\"Midterm Exam\""
      ]
    },
    {
      "cell_type": "markdown",
      "metadata": {
        "id": "ANQU64Ms3UKs"
      },
      "source": [
        "##Problem Statement 1"
      ]
    },
    {
      "cell_type": "code",
      "metadata": {
        "colab": {
          "base_uri": "https://localhost:8080/"
        },
        "id": "fNDvP9AQ17DB",
        "outputId": "7b06376a-dae8-4d91-ea32-ca55dd1d2522"
      },
      "source": [
        "a1 = \"Markhristian \"\n",
        "a2 = \"Perlado \"\n",
        "a3 = \"Macapinlac\"\n",
        "b = \"202013789\"\n",
        "c = \"20\"\n",
        "d1 = \" June \"\n",
        "d2 = \"26, \"\n",
        "d3 = \"2001\"\n",
        "e1 = \"Buna \"\n",
        "e2 = \"Cerca, \"\n",
        "e3 = \"Indang, \"\n",
        "e4 = \"Cavite\"\n",
        "f1 = \"BS \"\n",
        "f2 = \"Electronics and \"\n",
        "f3 = \"Communication \"\n",
        "f4 = \"Engineering \"\n",
        "g = \"1.93\"\n",
        "\n",
        "print(\"Full Name: \"+ a1+a2+a3)\n",
        "print(\"Student Number: \"+ b)\n",
        "print(\"Age: \" + c)\n",
        "print(\"Birthday:\" + d1+d2+d3)\n",
        "print(\"Adress: \"+ e1+e2+e3+e4)\n",
        "print(\"Course: \"+ f1+f2+f3+f4)\n",
        "print(\"Last Sem GWA: \"+ g)"
      ],
      "execution_count": 49,
      "outputs": [
        {
          "output_type": "stream",
          "name": "stdout",
          "text": [
            "Full Name: Markhristian Perlado Macapinlac\n",
            "Student Number: 202013789\n",
            "Age: 20\n",
            "Birthday: June 26, 2001\n",
            "Adress: Buna Cerca, Indang, Cavite\n",
            "Course: BS Electronics and Communication Engineering \n",
            "Last Sem GWA: 1.93\n"
          ]
        }
      ]
    },
    {
      "cell_type": "markdown",
      "metadata": {
        "id": "EHgx5K6g48Pw"
      },
      "source": [
        "##Problem Statement 2"
      ]
    },
    {
      "cell_type": "code",
      "metadata": {
        "colab": {
          "base_uri": "https://localhost:8080/"
        },
        "id": "lM5yhMOR7J_T",
        "outputId": "c64679b1-bcdf-4615-9fc2-0134f0942fa6"
      },
      "source": [
        "n = 4\n",
        "answ = \"Y\"\n",
        "print((2<n)and(n<6))\n",
        "print((2<n)or(n==6))\n",
        "print(not(2<n)or(n==6))\n",
        "print(not(n<6))\n",
        "print((answ==\"Y\")or(answ==\"y\"))\n",
        "print((answ==\"Y\")and(answ==\"y\"))\n",
        "print(not(answ==\"y\"))\n",
        "\n",
        "\n",
        "\n"
      ],
      "execution_count": 82,
      "outputs": [
        {
          "output_type": "stream",
          "name": "stdout",
          "text": [
            "True\n",
            "True\n",
            "False\n",
            "False\n",
            "True\n",
            "False\n",
            "True\n"
          ]
        }
      ]
    },
    {
      "cell_type": "markdown",
      "metadata": {
        "id": "HDpljUmN5ArN"
      },
      "source": [
        "##Problem Statement 3"
      ]
    },
    {
      "cell_type": "code",
      "metadata": {
        "colab": {
          "base_uri": "https://localhost:8080/"
        },
        "id": "QoewdDEr5Cey",
        "outputId": "8d960402-9d9d-45a7-b9d1-a43e8b3ed2ce"
      },
      "source": [
        "x = 2\n",
        "y = -3\n",
        "w = 7\n",
        "z = -10\n",
        "\n",
        "print(x/y)\n",
        "print(w/y/z)\n",
        "print(z/y%x)\n",
        "print(x%-y*w)\n",
        "print(x%y)\n",
        "print(z%w-y/x*5+5)\n",
        "print( 9-x%(2+y))\n",
        "print(z//w)\n",
        "print((2+y)**2)\n",
        "print(w/x*2)"
      ],
      "execution_count": 32,
      "outputs": [
        {
          "output_type": "stream",
          "name": "stdout",
          "text": [
            "-0.6666666666666666\n",
            "0.23333333333333334\n",
            "1.3333333333333335\n",
            "14\n",
            "-1\n",
            "16.5\n",
            "9\n",
            "-2\n",
            "1\n",
            "7.0\n"
          ]
        }
      ]
    }
  ]
}